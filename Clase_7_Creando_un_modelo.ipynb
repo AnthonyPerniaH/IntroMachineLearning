{
 "metadata": {
  "language_info": {
   "codemirror_mode": {
    "name": "ipython",
    "version": 3
   },
   "file_extension": ".py",
   "mimetype": "text/x-python",
   "name": "python",
   "nbconvert_exporter": "python",
   "pygments_lexer": "ipython3",
   "version": 3
  },
  "orig_nbformat": 2,
  "kernelspec": {
   "name": "python_defaultSpec_1596328869439",
   "display_name": "Python 3.7.4 64-bit ('base': conda)"
  }
 },
 "nbformat": 4,
 "nbformat_minor": 2,
 "cells": [
  {
   "cell_type": "code",
   "execution_count": 2,
   "metadata": {},
   "outputs": [],
   "source": [
    "import torch \n",
    "import torch.nn as nn\n",
    "import torch.optim as optim\n",
    "\n",
    "from torchvision import utils\n",
    "from torchvision import datasets\n",
    "from torchvision import transforms\n",
    "\n",
    "from PIL import Image\n",
    "import urllib.request as request\n",
    "from matplotlib import pyplot as plt "
   ]
  },
  {
   "cell_type": "markdown",
   "metadata": {},
   "source": [
    "#Creando modelo\n"
   ]
  },
  {
   "cell_type": "code",
   "execution_count": 4,
   "metadata": {
    "tags": []
   },
   "outputs": [
    {
     "output_type": "stream",
     "name": "stdout",
     "text": "Files already downloaded and verified\nFiles already downloaded and verified\n"
    }
   ],
   "source": [
    "data_path = './/data//'\n",
    "full_data_set = datasets.CIFAR10(data_path, train=True, download=True,\n",
    "                          transform=transforms.Compose([\n",
    "                              transforms.ToTensor(),\n",
    "                              transforms.Normalize((0.4915, 0.4823, 0.4468),\n",
    "                                                   (0.2470, 0.2435, 0.2616))\n",
    "                                                    ]))\n",
    "\n",
    "full_validation_set = datasets.CIFAR10(data_path, train=False, download=True,\n",
    "                          transform=transforms.Compose([\n",
    "                              transforms.ToTensor(),\n",
    "                              transforms.Normalize((0.4915, 0.4823, 0.4468),\n",
    "                                                   (0.2470, 0.2435, 0.2616))\n",
    "                                                   ]))"
   ]
  },
  {
   "cell_type": "code",
   "execution_count": 5,
   "metadata": {},
   "outputs": [],
   "source": [
    "size = 4\n",
    "dataloader = torch.utils.data.DataLoader(full_data_set, batch_size=size, shuffle=True, num_workers=2)"
   ]
  },
  {
   "cell_type": "code",
   "execution_count": 6,
   "metadata": {
    "tags": []
   },
   "outputs": [
    {
     "output_type": "stream",
     "name": "stderr",
     "text": "Clipping input data to the valid range for imshow with RGB data ([0..1] for floats or [0..255] for integers).\nfrog\nship\ndeer\nfrog\n"
    },
    {
     "output_type": "display_data",
     "data": {
      "text/plain": "<Figure size 432x288 with 1 Axes>",
      "image/svg+xml": "<?xml version=\"1.0\" encoding=\"utf-8\" standalone=\"no\"?>\r\n<!DOCTYPE svg PUBLIC \"-//W3C//DTD SVG 1.1//EN\"\r\n  \"http://www.w3.org/Graphics/SVG/1.1/DTD/svg11.dtd\">\r\n<!-- Created with matplotlib (https://matplotlib.org/) -->\r\n<svg height=\"121.003431pt\" version=\"1.1\" viewBox=\"0 0 368.925 121.003431\" width=\"368.925pt\" xmlns=\"http://www.w3.org/2000/svg\" xmlns:xlink=\"http://www.w3.org/1999/xlink\">\r\n <defs>\r\n  <style type=\"text/css\">\r\n*{stroke-linecap:butt;stroke-linejoin:round;}\r\n  </style>\r\n </defs>\r\n <g id=\"figure_1\">\r\n  <g id=\"patch_1\">\r\n   <path d=\"M -0 121.003431 \r\nL 368.925 121.003431 \r\nL 368.925 0 \r\nL -0 0 \r\nz\r\n\" style=\"fill:none;\"/>\r\n  </g>\r\n  <g id=\"axes_1\">\r\n   <g id=\"patch_2\">\r\n    <path d=\"M 26.925 97.125306 \r\nL 361.725 97.125306 \r\nL 361.725 9.786175 \r\nL 26.925 9.786175 \r\nz\r\n\" style=\"fill:#ffffff;\"/>\r\n   </g>\r\n   <g clip-path=\"url(#p5416c4959c)\">\r\n    <image height=\"88\" id=\"image11f966392d\" transform=\"scale(1 -1)translate(0 -88)\" width=\"335\" x=\"26.925\" xlink:href=\"data:image/png;base64,\r\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\" y=\"-9.125306\"/>\r\n   </g>\r\n   <g id=\"matplotlib.axis_1\">\r\n    <g id=\"xtick_1\">\r\n     <g id=\"line2d_1\">\r\n      <defs>\r\n       <path d=\"M 0 0 \r\nL 0 3.5 \r\n\" id=\"m984faf2483\" style=\"stroke:#000000;stroke-width:0.8;\"/>\r\n      </defs>\r\n      <g>\r\n       <use style=\"stroke:#000000;stroke-width:0.8;\" x=\"28.138043\" xlink:href=\"#m984faf2483\" y=\"97.125306\"/>\r\n      </g>\r\n     </g>\r\n     <g id=\"text_1\">\r\n      <!-- 0 -->\r\n      <defs>\r\n       <path d=\"M 31.78125 66.40625 \r\nQ 24.171875 66.40625 20.328125 58.90625 \r\nQ 16.5 51.421875 16.5 36.375 \r\nQ 16.5 21.390625 20.328125 13.890625 \r\nQ 24.171875 6.390625 31.78125 6.390625 \r\nQ 39.453125 6.390625 43.28125 13.890625 \r\nQ 47.125 21.390625 47.125 36.375 \r\nQ 47.125 51.421875 43.28125 58.90625 \r\nQ 39.453125 66.40625 31.78125 66.40625 \r\nz\r\nM 31.78125 74.21875 \r\nQ 44.046875 74.21875 50.515625 64.515625 \r\nQ 56.984375 54.828125 56.984375 36.375 \r\nQ 56.984375 17.96875 50.515625 8.265625 \r\nQ 44.046875 -1.421875 31.78125 -1.421875 \r\nQ 19.53125 -1.421875 13.0625 8.265625 \r\nQ 6.59375 17.96875 6.59375 36.375 \r\nQ 6.59375 54.828125 13.0625 64.515625 \r\nQ 19.53125 74.21875 31.78125 74.21875 \r\nz\r\n\" id=\"DejaVuSans-48\"/>\r\n      </defs>\r\n      <g transform=\"translate(24.956793 111.723743)scale(0.1 -0.1)\">\r\n       <use xlink:href=\"#DejaVuSans-48\"/>\r\n      </g>\r\n     </g>\r\n    </g>\r\n    <g id=\"xtick_2\">\r\n     <g id=\"line2d_2\">\r\n      <g>\r\n       <use style=\"stroke:#000000;stroke-width:0.8;\" x=\"76.659783\" xlink:href=\"#m984faf2483\" y=\"97.125306\"/>\r\n      </g>\r\n     </g>\r\n     <g id=\"text_2\">\r\n      <!-- 20 -->\r\n      <defs>\r\n       <path d=\"M 19.1875 8.296875 \r\nL 53.609375 8.296875 \r\nL 53.609375 0 \r\nL 7.328125 0 \r\nL 7.328125 8.296875 \r\nQ 12.9375 14.109375 22.625 23.890625 \r\nQ 32.328125 33.6875 34.8125 36.53125 \r\nQ 39.546875 41.84375 41.421875 45.53125 \r\nQ 43.3125 49.21875 43.3125 52.78125 \r\nQ 43.3125 58.59375 39.234375 62.25 \r\nQ 35.15625 65.921875 28.609375 65.921875 \r\nQ 23.96875 65.921875 18.8125 64.3125 \r\nQ 13.671875 62.703125 7.8125 59.421875 \r\nL 7.8125 69.390625 \r\nQ 13.765625 71.78125 18.9375 73 \r\nQ 24.125 74.21875 28.421875 74.21875 \r\nQ 39.75 74.21875 46.484375 68.546875 \r\nQ 53.21875 62.890625 53.21875 53.421875 \r\nQ 53.21875 48.921875 51.53125 44.890625 \r\nQ 49.859375 40.875 45.40625 35.40625 \r\nQ 44.1875 33.984375 37.640625 27.21875 \r\nQ 31.109375 20.453125 19.1875 8.296875 \r\nz\r\n\" id=\"DejaVuSans-50\"/>\r\n      </defs>\r\n      <g transform=\"translate(70.297283 111.723743)scale(0.1 -0.1)\">\r\n       <use xlink:href=\"#DejaVuSans-50\"/>\r\n       <use x=\"63.623047\" xlink:href=\"#DejaVuSans-48\"/>\r\n      </g>\r\n     </g>\r\n    </g>\r\n    <g id=\"xtick_3\">\r\n     <g id=\"line2d_3\">\r\n      <g>\r\n       <use style=\"stroke:#000000;stroke-width:0.8;\" x=\"125.181522\" xlink:href=\"#m984faf2483\" y=\"97.125306\"/>\r\n      </g>\r\n     </g>\r\n     <g id=\"text_3\">\r\n      <!-- 40 -->\r\n      <defs>\r\n       <path d=\"M 37.796875 64.3125 \r\nL 12.890625 25.390625 \r\nL 37.796875 25.390625 \r\nz\r\nM 35.203125 72.90625 \r\nL 47.609375 72.90625 \r\nL 47.609375 25.390625 \r\nL 58.015625 25.390625 \r\nL 58.015625 17.1875 \r\nL 47.609375 17.1875 \r\nL 47.609375 0 \r\nL 37.796875 0 \r\nL 37.796875 17.1875 \r\nL 4.890625 17.1875 \r\nL 4.890625 26.703125 \r\nz\r\n\" id=\"DejaVuSans-52\"/>\r\n      </defs>\r\n      <g transform=\"translate(118.819022 111.723743)scale(0.1 -0.1)\">\r\n       <use xlink:href=\"#DejaVuSans-52\"/>\r\n       <use x=\"63.623047\" xlink:href=\"#DejaVuSans-48\"/>\r\n      </g>\r\n     </g>\r\n    </g>\r\n    <g id=\"xtick_4\">\r\n     <g id=\"line2d_4\">\r\n      <g>\r\n       <use style=\"stroke:#000000;stroke-width:0.8;\" x=\"173.703261\" xlink:href=\"#m984faf2483\" y=\"97.125306\"/>\r\n      </g>\r\n     </g>\r\n     <g id=\"text_4\">\r\n      <!-- 60 -->\r\n      <defs>\r\n       <path d=\"M 33.015625 40.375 \r\nQ 26.375 40.375 22.484375 35.828125 \r\nQ 18.609375 31.296875 18.609375 23.390625 \r\nQ 18.609375 15.53125 22.484375 10.953125 \r\nQ 26.375 6.390625 33.015625 6.390625 \r\nQ 39.65625 6.390625 43.53125 10.953125 \r\nQ 47.40625 15.53125 47.40625 23.390625 \r\nQ 47.40625 31.296875 43.53125 35.828125 \r\nQ 39.65625 40.375 33.015625 40.375 \r\nz\r\nM 52.59375 71.296875 \r\nL 52.59375 62.3125 \r\nQ 48.875 64.0625 45.09375 64.984375 \r\nQ 41.3125 65.921875 37.59375 65.921875 \r\nQ 27.828125 65.921875 22.671875 59.328125 \r\nQ 17.53125 52.734375 16.796875 39.40625 \r\nQ 19.671875 43.65625 24.015625 45.921875 \r\nQ 28.375 48.1875 33.59375 48.1875 \r\nQ 44.578125 48.1875 50.953125 41.515625 \r\nQ 57.328125 34.859375 57.328125 23.390625 \r\nQ 57.328125 12.15625 50.6875 5.359375 \r\nQ 44.046875 -1.421875 33.015625 -1.421875 \r\nQ 20.359375 -1.421875 13.671875 8.265625 \r\nQ 6.984375 17.96875 6.984375 36.375 \r\nQ 6.984375 53.65625 15.1875 63.9375 \r\nQ 23.390625 74.21875 37.203125 74.21875 \r\nQ 40.921875 74.21875 44.703125 73.484375 \r\nQ 48.484375 72.75 52.59375 71.296875 \r\nz\r\n\" id=\"DejaVuSans-54\"/>\r\n      </defs>\r\n      <g transform=\"translate(167.340761 111.723743)scale(0.1 -0.1)\">\r\n       <use xlink:href=\"#DejaVuSans-54\"/>\r\n       <use x=\"63.623047\" xlink:href=\"#DejaVuSans-48\"/>\r\n      </g>\r\n     </g>\r\n    </g>\r\n    <g id=\"xtick_5\">\r\n     <g id=\"line2d_5\">\r\n      <g>\r\n       <use style=\"stroke:#000000;stroke-width:0.8;\" x=\"222.225\" xlink:href=\"#m984faf2483\" y=\"97.125306\"/>\r\n      </g>\r\n     </g>\r\n     <g id=\"text_5\">\r\n      <!-- 80 -->\r\n      <defs>\r\n       <path d=\"M 31.78125 34.625 \r\nQ 24.75 34.625 20.71875 30.859375 \r\nQ 16.703125 27.09375 16.703125 20.515625 \r\nQ 16.703125 13.921875 20.71875 10.15625 \r\nQ 24.75 6.390625 31.78125 6.390625 \r\nQ 38.8125 6.390625 42.859375 10.171875 \r\nQ 46.921875 13.96875 46.921875 20.515625 \r\nQ 46.921875 27.09375 42.890625 30.859375 \r\nQ 38.875 34.625 31.78125 34.625 \r\nz\r\nM 21.921875 38.8125 \r\nQ 15.578125 40.375 12.03125 44.71875 \r\nQ 8.5 49.078125 8.5 55.328125 \r\nQ 8.5 64.0625 14.71875 69.140625 \r\nQ 20.953125 74.21875 31.78125 74.21875 \r\nQ 42.671875 74.21875 48.875 69.140625 \r\nQ 55.078125 64.0625 55.078125 55.328125 \r\nQ 55.078125 49.078125 51.53125 44.71875 \r\nQ 48 40.375 41.703125 38.8125 \r\nQ 48.828125 37.15625 52.796875 32.3125 \r\nQ 56.78125 27.484375 56.78125 20.515625 \r\nQ 56.78125 9.90625 50.3125 4.234375 \r\nQ 43.84375 -1.421875 31.78125 -1.421875 \r\nQ 19.734375 -1.421875 13.25 4.234375 \r\nQ 6.78125 9.90625 6.78125 20.515625 \r\nQ 6.78125 27.484375 10.78125 32.3125 \r\nQ 14.796875 37.15625 21.921875 38.8125 \r\nz\r\nM 18.3125 54.390625 \r\nQ 18.3125 48.734375 21.84375 45.5625 \r\nQ 25.390625 42.390625 31.78125 42.390625 \r\nQ 38.140625 42.390625 41.71875 45.5625 \r\nQ 45.3125 48.734375 45.3125 54.390625 \r\nQ 45.3125 60.0625 41.71875 63.234375 \r\nQ 38.140625 66.40625 31.78125 66.40625 \r\nQ 25.390625 66.40625 21.84375 63.234375 \r\nQ 18.3125 60.0625 18.3125 54.390625 \r\nz\r\n\" id=\"DejaVuSans-56\"/>\r\n      </defs>\r\n      <g transform=\"translate(215.8625 111.723743)scale(0.1 -0.1)\">\r\n       <use xlink:href=\"#DejaVuSans-56\"/>\r\n       <use x=\"63.623047\" xlink:href=\"#DejaVuSans-48\"/>\r\n      </g>\r\n     </g>\r\n    </g>\r\n    <g id=\"xtick_6\">\r\n     <g id=\"line2d_6\">\r\n      <g>\r\n       <use style=\"stroke:#000000;stroke-width:0.8;\" x=\"270.746739\" xlink:href=\"#m984faf2483\" y=\"97.125306\"/>\r\n      </g>\r\n     </g>\r\n     <g id=\"text_6\">\r\n      <!-- 100 -->\r\n      <defs>\r\n       <path d=\"M 12.40625 8.296875 \r\nL 28.515625 8.296875 \r\nL 28.515625 63.921875 \r\nL 10.984375 60.40625 \r\nL 10.984375 69.390625 \r\nL 28.421875 72.90625 \r\nL 38.28125 72.90625 \r\nL 38.28125 8.296875 \r\nL 54.390625 8.296875 \r\nL 54.390625 0 \r\nL 12.40625 0 \r\nz\r\n\" id=\"DejaVuSans-49\"/>\r\n      </defs>\r\n      <g transform=\"translate(261.202989 111.723743)scale(0.1 -0.1)\">\r\n       <use xlink:href=\"#DejaVuSans-49\"/>\r\n       <use x=\"63.623047\" xlink:href=\"#DejaVuSans-48\"/>\r\n       <use x=\"127.246094\" xlink:href=\"#DejaVuSans-48\"/>\r\n      </g>\r\n     </g>\r\n    </g>\r\n    <g id=\"xtick_7\">\r\n     <g id=\"line2d_7\">\r\n      <g>\r\n       <use style=\"stroke:#000000;stroke-width:0.8;\" x=\"319.268478\" xlink:href=\"#m984faf2483\" y=\"97.125306\"/>\r\n      </g>\r\n     </g>\r\n     <g id=\"text_7\">\r\n      <!-- 120 -->\r\n      <g transform=\"translate(309.724728 111.723743)scale(0.1 -0.1)\">\r\n       <use xlink:href=\"#DejaVuSans-49\"/>\r\n       <use x=\"63.623047\" xlink:href=\"#DejaVuSans-50\"/>\r\n       <use x=\"127.246094\" xlink:href=\"#DejaVuSans-48\"/>\r\n      </g>\r\n     </g>\r\n    </g>\r\n   </g>\r\n   <g id=\"matplotlib.axis_2\">\r\n    <g id=\"ytick_1\">\r\n     <g id=\"line2d_8\">\r\n      <defs>\r\n       <path d=\"M 0 0 \r\nL -3.5 0 \r\n\" id=\"mc05355bf50\" style=\"stroke:#000000;stroke-width:0.8;\"/>\r\n      </defs>\r\n      <g>\r\n       <use style=\"stroke:#000000;stroke-width:0.8;\" x=\"26.925\" xlink:href=\"#mc05355bf50\" y=\"10.999219\"/>\r\n      </g>\r\n     </g>\r\n     <g id=\"text_8\">\r\n      <!-- 0 -->\r\n      <g transform=\"translate(13.5625 14.798437)scale(0.1 -0.1)\">\r\n       <use xlink:href=\"#DejaVuSans-48\"/>\r\n      </g>\r\n     </g>\r\n    </g>\r\n    <g id=\"ytick_2\">\r\n     <g id=\"line2d_9\">\r\n      <g>\r\n       <use style=\"stroke:#000000;stroke-width:0.8;\" x=\"26.925\" xlink:href=\"#mc05355bf50\" y=\"35.260088\"/>\r\n      </g>\r\n     </g>\r\n     <g id=\"text_9\">\r\n      <!-- 10 -->\r\n      <g transform=\"translate(7.2 39.059307)scale(0.1 -0.1)\">\r\n       <use xlink:href=\"#DejaVuSans-49\"/>\r\n       <use x=\"63.623047\" xlink:href=\"#DejaVuSans-48\"/>\r\n      </g>\r\n     </g>\r\n    </g>\r\n    <g id=\"ytick_3\">\r\n     <g id=\"line2d_10\">\r\n      <g>\r\n       <use style=\"stroke:#000000;stroke-width:0.8;\" x=\"26.925\" xlink:href=\"#mc05355bf50\" y=\"59.520958\"/>\r\n      </g>\r\n     </g>\r\n     <g id=\"text_10\">\r\n      <!-- 20 -->\r\n      <g transform=\"translate(7.2 63.320177)scale(0.1 -0.1)\">\r\n       <use xlink:href=\"#DejaVuSans-50\"/>\r\n       <use x=\"63.623047\" xlink:href=\"#DejaVuSans-48\"/>\r\n      </g>\r\n     </g>\r\n    </g>\r\n    <g id=\"ytick_4\">\r\n     <g id=\"line2d_11\">\r\n      <g>\r\n       <use style=\"stroke:#000000;stroke-width:0.8;\" x=\"26.925\" xlink:href=\"#mc05355bf50\" y=\"83.781827\"/>\r\n      </g>\r\n     </g>\r\n     <g id=\"text_11\">\r\n      <!-- 30 -->\r\n      <defs>\r\n       <path d=\"M 40.578125 39.3125 \r\nQ 47.65625 37.796875 51.625 33 \r\nQ 55.609375 28.21875 55.609375 21.1875 \r\nQ 55.609375 10.40625 48.1875 4.484375 \r\nQ 40.765625 -1.421875 27.09375 -1.421875 \r\nQ 22.515625 -1.421875 17.65625 -0.515625 \r\nQ 12.796875 0.390625 7.625 2.203125 \r\nL 7.625 11.71875 \r\nQ 11.71875 9.328125 16.59375 8.109375 \r\nQ 21.484375 6.890625 26.8125 6.890625 \r\nQ 36.078125 6.890625 40.9375 10.546875 \r\nQ 45.796875 14.203125 45.796875 21.1875 \r\nQ 45.796875 27.640625 41.28125 31.265625 \r\nQ 36.765625 34.90625 28.71875 34.90625 \r\nL 20.21875 34.90625 \r\nL 20.21875 43.015625 \r\nL 29.109375 43.015625 \r\nQ 36.375 43.015625 40.234375 45.921875 \r\nQ 44.09375 48.828125 44.09375 54.296875 \r\nQ 44.09375 59.90625 40.109375 62.90625 \r\nQ 36.140625 65.921875 28.71875 65.921875 \r\nQ 24.65625 65.921875 20.015625 65.03125 \r\nQ 15.375 64.15625 9.8125 62.3125 \r\nL 9.8125 71.09375 \r\nQ 15.4375 72.65625 20.34375 73.4375 \r\nQ 25.25 74.21875 29.59375 74.21875 \r\nQ 40.828125 74.21875 47.359375 69.109375 \r\nQ 53.90625 64.015625 53.90625 55.328125 \r\nQ 53.90625 49.265625 50.4375 45.09375 \r\nQ 46.96875 40.921875 40.578125 39.3125 \r\nz\r\n\" id=\"DejaVuSans-51\"/>\r\n      </defs>\r\n      <g transform=\"translate(7.2 87.581046)scale(0.1 -0.1)\">\r\n       <use xlink:href=\"#DejaVuSans-51\"/>\r\n       <use x=\"63.623047\" xlink:href=\"#DejaVuSans-48\"/>\r\n      </g>\r\n     </g>\r\n    </g>\r\n   </g>\r\n   <g id=\"patch_3\">\r\n    <path d=\"M 26.925 97.125306 \r\nL 26.925 9.786175 \r\n\" style=\"fill:none;stroke:#000000;stroke-linecap:square;stroke-linejoin:miter;stroke-width:0.8;\"/>\r\n   </g>\r\n   <g id=\"patch_4\">\r\n    <path d=\"M 361.725 97.125306 \r\nL 361.725 9.786175 \r\n\" style=\"fill:none;stroke:#000000;stroke-linecap:square;stroke-linejoin:miter;stroke-width:0.8;\"/>\r\n   </g>\r\n   <g id=\"patch_5\">\r\n    <path d=\"M 26.925 97.125306 \r\nL 361.725 97.125306 \r\n\" style=\"fill:none;stroke:#000000;stroke-linecap:square;stroke-linejoin:miter;stroke-width:0.8;\"/>\r\n   </g>\r\n   <g id=\"patch_6\">\r\n    <path d=\"M 26.925 9.786175 \r\nL 361.725 9.786175 \r\n\" style=\"fill:none;stroke:#000000;stroke-linecap:square;stroke-linejoin:miter;stroke-width:0.8;\"/>\r\n   </g>\r\n  </g>\r\n </g>\r\n <defs>\r\n  <clipPath id=\"p5416c4959c\">\r\n   <rect height=\"87.33913\" width=\"334.8\" x=\"26.925\" y=\"9.786175\"/>\r\n  </clipPath>\r\n </defs>\r\n</svg>\r\n",
      "image/png": "[encoded data removed]"
     },
     "metadata": {
      "needs_background": "light"
     }
    }
   ],
   "source": [
    "data_iterator = iter(dataloader)\n",
    "imgs, labels = data_iterator.next()\n",
    "\n",
    "classes = ['plane','car','bird','cat','deer','dog','frog','horse','ship','truck']\n",
    "\n",
    "plt.imshow(utils.make_grid(imgs).permute(1, 2, 0))\n",
    "\n",
    "for i in range(size):\n",
    "  print(classes[labels[i]])"
   ]
  },
  {
   "cell_type": "code",
   "execution_count": 7,
   "metadata": {},
   "outputs": [],
   "source": [
    "#classes = ['plane','car','bird','cat','deer','dog','frog','horse','ship','truck']\n",
    "class_names = ['car', 'cat']\n",
    "\n",
    "label_map = {1: 0, 3: 1}\n",
    "\n",
    "data_set = [(img, label_map[label]) for img, label in full_data_set if label in [1, 3]]\n",
    "validation_set = [(img, label_map[label]) for img, label in full_validation_set if label in [1, 3]]"
   ]
  },
  {
   "cell_type": "code",
   "execution_count": 8,
   "metadata": {},
   "outputs": [
    {
     "output_type": "execute_result",
     "data": {
      "text/plain": "torch.Size([3, 32, 32])"
     },
     "metadata": {},
     "execution_count": 8
    }
   ],
   "source": [
    "img, label = data_set[20]\n",
    "img.shape"
   ]
  },
  {
   "cell_type": "code",
   "execution_count": 9,
   "metadata": {},
   "outputs": [],
   "source": [
    "model = nn.Sequential(\n",
    "            nn.Linear(3 * 32 * 32, 512),  #Entrada\n",
    "            nn.Tanh(),    #Aplico la tangente hiperbolica\n",
    "            nn.Linear(512, 2)) #Salida"
   ]
  },
  {
   "cell_type": "code",
   "execution_count": 10,
   "metadata": {},
   "outputs": [],
   "source": [
    "def sigmoid(x):\n",
    "  return 1 / (1 + torch.exp(-x))"
   ]
  },
  {
   "cell_type": "code",
   "execution_count": 11,
   "metadata": {},
   "outputs": [
    {
     "output_type": "execute_result",
     "data": {
      "text/plain": "tensor([0.7311, 0.8808, 0.9526])"
     },
     "metadata": {},
     "execution_count": 11
    }
   ],
   "source": [
    "x = torch.tensor([1.0, 2.0, 3.0])\n",
    "\n",
    "sigmoid(x)"
   ]
  },
  {
   "cell_type": "code",
   "execution_count": 12,
   "metadata": {},
   "outputs": [],
   "source": [
    "def softmax(x):\n",
    "    return torch.exp(x) / torch.exp(x).sum()"
   ]
  },
  {
   "cell_type": "code",
   "execution_count": 13,
   "metadata": {},
   "outputs": [
    {
     "output_type": "execute_result",
     "data": {
      "text/plain": "tensor([0.0900, 0.2447, 0.6652])"
     },
     "metadata": {},
     "execution_count": 13
    }
   ],
   "source": [
    "softmax(x)"
   ]
  },
  {
   "cell_type": "code",
   "execution_count": 14,
   "metadata": {},
   "outputs": [],
   "source": [
    "model = nn.Sequential(\n",
    "            nn.Linear(3 * 32 * 32, 512),  #Entrada\n",
    "            nn.Tanh(),    #Aplico la tangente hiperbolica\n",
    "            nn.Linear(512, 2),\n",
    "            nn.Softmax(dim=1)) #Salida"
   ]
  },
  {
   "cell_type": "code",
   "execution_count": 15,
   "metadata": {
    "tags": []
   },
   "outputs": [
    {
     "output_type": "stream",
     "name": "stderr",
     "text": "Clipping input data to the valid range for imshow with RGB data ([0..1] for floats or [0..255] for integers).\n"
    },
    {
     "output_type": "execute_result",
     "data": {
      "text/plain": "'car'"
     },
     "metadata": {},
     "execution_count": 15
    },
    {
     "output_type": "display_data",
     "data": {
      "text/plain": "<Figure size 432x288 with 1 Axes>",
      "image/svg+xml": "<?xml version=\"1.0\" encoding=\"utf-8\" standalone=\"no\"?>\r\n<!DOCTYPE svg PUBLIC \"-//W3C//DTD SVG 1.1//EN\"\r\n  \"http://www.w3.org/Graphics/SVG/1.1/DTD/svg11.dtd\">\r\n<!-- Created with matplotlib (https://matplotlib.org/) -->\r\n<svg height=\"248.919844pt\" version=\"1.1\" viewBox=\"0 0 251.565 248.919844\" width=\"251.565pt\" xmlns=\"http://www.w3.org/2000/svg\" xmlns:xlink=\"http://www.w3.org/1999/xlink\">\r\n <defs>\r\n  <style type=\"text/css\">\r\n*{stroke-linecap:butt;stroke-linejoin:round;}\r\n  </style>\r\n </defs>\r\n <g id=\"figure_1\">\r\n  <g id=\"patch_1\">\r\n   <path d=\"M 0 248.919844 \r\nL 251.565 248.919844 \r\nL 251.565 0 \r\nL 0 0 \r\nz\r\n\" style=\"fill:none;\"/>\r\n  </g>\r\n  <g id=\"axes_1\">\r\n   <g id=\"patch_2\">\r\n    <path d=\"M 26.925 225.041719 \r\nL 244.365 225.041719 \r\nL 244.365 7.601719 \r\nL 26.925 7.601719 \r\nz\r\n\" style=\"fill:#ffffff;\"/>\r\n   </g>\r\n   <g clip-path=\"url(#pf739c0d4e9)\">\r\n    <image height=\"218\" id=\"image46bf3a0372\" transform=\"scale(1 -1)translate(0 -218)\" width=\"218\" x=\"26.925\" xlink:href=\"data:image/png;base64,\r\niVBORw0KGgoAAAANSUhEUgAAANoAAADaCAYAAADAHVzbAAAABHNCSVQICAgIfAhkiAAADx5JREFUeJzt3X2MXGUVx/Ez9RZncbpM12ld6hZaZSpLX3B5tZAtL1JCEUyDIL5EjSKi4AuQGBWMQjAGY0BjqJGAQYlGUaymtVZTSMViKtS40BVWWGQru9DVDrtDO9JxuRT/8N/nd4DLcijy/fx5T+7Mndn95SbnPnOekpk9Z/uFNzi1slNrFTin4tRyp9Z2ak85tUwcf51zjnf93nV456nPpq7PzOzfBV6vqNc7tWcDr2P6zXilLwB4LSBoQACCBgQgaEAAggYEIGhAgJLtN+19z0FOTbWzvRZ40fa4x3vN/4jj3ufyeO1s9V7eeV57f/9vnfvX74n7bNzRgAAEDQhA0IAABA0IQNCAAAQNCFAyy5z2/quhtatWfFedc9SKfzN/tbrnjU7tyQKv5/2aoWg7vuhnU7zV9kV4jyaK2j8eXXBHAwIQNCAAQQMCEDQgAEEDAryERcWq41S0czTd3aGiC3a9RcX/LPia0/1ded0+73tU7xfdXVZ/m6Jd0f2/O84dDQhA0IAABA0IQNCAAAQNCEDQgAAvYVFxkTHXRdvZ3gJbtZj3MeecoqOnvYXDRVr/Rdv0nuleOFxUkc/m/b95j128cez7B+5oQACCBgQgaEAAggYEIGhAAIIGBCiZvcFp73vteK+NrxRdoV/gsUDmtOIz5zra3nyPojt0plvunbVD5Bm7m85ndhere48ZpnuVe9FdWtV37D0S8P4Hip4XhzsaEICgAQEIGhCAoAEBCBoQgKABAUpd3X2yvV/O9Er2WR3pVvfkHr2SujGuW8/73NazM967kh700lnxWvh6JHhW0e81Mea1/huy0ll7a/J47nzkdtvbQVTbl3uPBZqq4Lxixal5o9W99r76bPtHK/7lwB0NCEDQgAAEDQhA0IAABA0IQNCAAFmz+S9ZXNitV8Bn5XTbt8MZblNu6dZ/VbTpzcy8TvdE8+H0OS197fX6Illr7dEt/Lap9rjZ0047e3fjQVlTOsv6+vv6jpC1ZlN/x+096dX2w2OPy3P8xy5eOz6yVe/ts+A9Jom7Ru5oQACCBgQgaEAAggYEIGhAAIIGBCh11d4iV+/nTmt3d0OtxNft/bf26rZ02XmvyZ16lXhDPDKYyvf/eex47eCOBgQgaEAAggYEIGhAAIIGBCiZHaRHgmfO3Ic8vVhz7oLl8pRjjzpOv1VVv1dvvU/WTvvAGcnj7z7jSnnO00NflzW8kt7s1PTC55eHGndebEdV7mhAAIIGBCBoQACCBgQgaEAAggYEyE5cda4sOpOzrdVKt+O7F+pWfN/pq2StVtMzMg6br3d0PO3QkqwVkR7e/T81p3bPtF7Fq19Xz1tkbWLs0eTxGbZUnpP1rJa1qbE1L/zCXrBibXyFOxoQgKABAQgaEICgAQEIGhCAoAEBsvJMPR57yQo942N2Tay0zvQOkd0L3iRrtSy9g6iZWWvkCVlTFju1w51a3ald69S6nNqEU/t/pVr4nn12h6xVMv2/43+/zs6v7rjzF+/IY0+RNe5oQACCBgQgaEAAggYEIGhAAIIGBMi6e3QLf1ZN1yoHp9v7lbJeaZ95ndYOXaosnCdrl4rjo85b6Sas2SVOzXss8HOntsGpKR9xav1Lz5K1bYO/lrVxcdz7VcLdTu0hp1bEgU67vd3Y4pyp/7FmlPVjgX1tr72vRt7r99o5+nd9Hc47AZgmBA0IQNCAAAQNCEDQgAAEDQiQ5R26uVvp0Cvxs/Z/kserVd3eLzstfHPG/Fd6de1T4viipf3ynMcGvVaxpkcLmf3SqalW/WznnJ1OreK08L2GdUMcf8Q5x2vhe48g5ju1reL4nab/d6ylh+V01vQgIM/utmrhe9RMfrNslh4wxR0NCEDQgAAEDQhA0IAABA0IkLWe0bM6hob13Id6T3qhb7nWKc+peatXnQXHs9Kbi5qZWaX6vuTx7YM/1dfhXIZ3IW2np3e984rbxPH0lT+/2wqeN93mVPXi5oGFuo1856RYfLtDz4bx7gjt1lOyVnYWuR+64FBZy2amc9HdrRcp5/asrHFHAwIQNCAAQQMCEDQgAEEDAhA0IEDpom9ufU4Vx5r6xPHRdM+9u6oXXR67TO+nefJyPVR74cH6Ohqi9Z9v1+eMOnO/b3F2Od1wtV7M+661Z8va58Xxk/VbvQRiVLuZmak/qF6we3SvnhszOPm4rE01dMtdPSXp8hbs1pxV584jmWZT/0GzTL/m0+0nk8cPcK6x1qNb/9zRgAAEDQhA0IAABA0IQNCAAAQNCJDlo7pFu3S+bhXnk+nWaCVPt0XNzAa26zbsyF5Zsr6FuvXfPSd9vH6Ufr3apFNzhnV09uvV6hv65VMSq12Wnr1yvNNWv0dfxvPQf09lXqZnbgyM6r9n2fSMDMv1Ty4yMaa7XfFm1DjjwjNdm3L+H6dy/f3Lc5y/2RNjj8kadzQgAEEDAhA0IABBAwIQNCAAQQMCZN4Q6XLmLN+39Er8Sodu6/bWdXt/63a93H6gqR8zNMQq696a3iX07fVDZO1Dzi8FznMGCOVjulZ/KL2C/Ajn9b500hdk7btjv5K13soyWRuppN/wiXFn8HfrIFl62vQwHTO9kn1K/Yu09Y6Z7kilsv57Fqc+tx5Y5e48+pKuBcALQtCAAAQNCEDQgAAEDQhA0IAAWZY7w1xm6bnlmdi9c1ZZt/fzvbqF3xzRw1x6cmeHzjy9gnzbiG5Zb96sH2l0V9M7mZqZ9Z+gV7nXqnrl+Y5t6YEu68W1m5ltPX+lrNlfdOv8npGH9XkNUavpGfTW1n/PzkpV1nY3nN005Yp6/R0eWNNDcSrO3J52S3/HrbZux+9TH9t5fNJV14OMuKMBAQgaEICgAQEIGhCAoAEBSnPrP5LDLmYfprtAPXPSna/3n6m7PI/s/IOs/WStnu2wpKIXcrbz9IyMsXHdSSvX/yFr+bDufo62dVdpdkUvvn3HwvRrzne6VHv26GtsOt2y29bpruOMLH3evlx3Yb1F511z9N96YmirfklxHZbr8d0HlPX/4lRb/80OqOkFxxXnNSca4nPn3sryhixxRwMCEDQgAEEDAhA0IABBAwIQNCBA1rdAjzEe3KHnbty5Jd1+buW6rX5M79tk7fCKbme//3RZso1D6dbu+OBf5Dnl/EFZG3fa+/3n6NWrjUHd2r1t7UDy+OKeRfKcY47T32Nfnz7v4At0bdO96Zb1A4POHAzVijeziT1Oq7uqH110iTHuE6P6OqbEbBgzs85u/Zhh9mxZcnenbYrZMcMjeiR4ucKiYuAVRdCAAAQNCEDQgAAEDQhA0IAAmW27VxY/fPpqWbt2NL1KPDPdMp3Zfp2sLZ+vZ1O0BnTLfc5AumV93pm6PZ7VnRb42h/KWnNok6y1R2TJvnbzmuTxm758iTyn/5T3yVq3sxPrMc73v6SebpE39uq29MCwbqvfN6jnguRN3fqfFH/qrvn6FxATu3TrPyvr99q7V//6oOE8nVCnVSt6jk6541lZ444GBCBoQACCBgQgaEAAggYEIGhAgJLZm+Vwnt/f/CN54reuW588vmmnfrPeFXqU9Yf69Arsz111gaytueia5PGhcb175Eyn5Tu86cey9ki3LNnZK3TtrGvS1zJ+a3rXVDOzjc4Gl86CdLvuIr0b6Ma16eu4byg94MjM7LC6/sXFnwf12PX19+pHMpONdH+/tVeeYtlM/cuJ9i59/U7n37JMt+OtrB5F6THo3owj7mhAAIIGBCBoQACCBgQgaEAAggYEKB3ZvVq2999R1ivBv/e77ySPn3HpN+Q5zQE9FKf/1FWy9s0bLpY12/Wv9PHVH5GnrFmpd9P86Hw9rKj++dtl7eKPnSZr+ex0a3pk8kZ5zn1iOIyZ37LucWrL51yePL7+N7oVf8ozeoX+rqYeVPPnqp553xgXr+nsKbDXaf3npndpzZ29A3KnH98W1zLV1PsDWK6/D+5oQACCBgQgaEAAggYEIGhAAIIGBMhWXXmdLC5pOzPZF3UlDy8/1Zm9f/4yWbtpnR4CU5qnW//z2ulHBreu1L8UqM3WLWtbcZYsDdx/haxdfrV+rNEn9hxojiyX5/Q4bel2Sw/n2bFT1/7WSj+6KDsz6Dc7LffqHL03Q9n0eZUs/T+y0/Rjhpbp4U2Zs2q+1dS1svP4Sm7Xm+tfEXi4owEBCBoQgKABAQgaEICgAQFK377jSbmoeOVMvQvnESv6kscPW/Zxec7fB/WiXDOvm+N0CRecmzz8jwd1N/WQDt3devSx7bK2Zd0WWVv17q/LmnWkO7Rzxc6XZmbX3XCqrFWccduPjOr5Ges3p897aFh/ZnO6h+Z0Rt95rB6dfeEFpySPj43qznNPt+4iVzr0dYzt0QuOWy3ddczE565mOhN5pueJcEcDAhA0IABBAwIQNCAAQQMCEDQgQMnsXNnen1fVbfXHJ/+QfsGSXgBstaNk6T1Xptv0ZmafOSf9KMHM7MzLrk8eH/pFej6GmdnGh38ta1dc+klZqy/TO5b+6Vrd9lXu3HW3rJ02t/9Fv97zytLf49HvPVue8va63g307iHdjn/oZ/pxx3tWph9B/G2rPMV9yHC/Xm9sM5zR6sMX6ZpaS734an3OoYwEB15ZBA0IQNCAAAQNCEDQgAAEDQhQMjPZ3vf89q6NyeNnnKTb9GZ6ZPI7v/pTWbvjqvNlrVQqpQvL9XwS2+qtVi9mxgL9CGLVshOSxzesWzPt11GMvnYzPQPGTO8u6lKL3J35Hi+HL+rJ8NbTkT7+6XXF3os7GhCAoAEBCBoQgKABAQgaEICgAQEKt/cPEMenil8L/o8c7zwxGB1MH//sJ1brk+rOcJ7xh2XtK2s2y9qqfv2bgPKW9FL87zsbfnq4owEBCBoQgKABAQgaEICgAQEIGhCgcHv//gfSK+CPXOysmgfMzOyg5NHb/7hNnnHuiYtk7STnnS788Adlre38muSmW9O/TNDT9c2uP0fvFssdDQhA0IAABA0IQNCAAAQNCOBNWnYd3rt0Oq8DrynpHVdvWfODQq92l1M7fOujsnbjsJ5BrnqVf3Xea1NfejaMGXc0IARBAwIQNCAAQQMCEDQgAEEDAhRu72diEjdQ1KqFenfRDQVf02vhe9Qmohf26Z1YB278nqxxRwMCEDQgAEEDAhA0IABBAwIQNCDAfwHoMis6o7y/dQAAAABJRU5ErkJggg==\" y=\"-7.041719\"/>\r\n   </g>\r\n   <g id=\"matplotlib.axis_1\">\r\n    <g id=\"xtick_1\">\r\n     <g id=\"line2d_1\">\r\n      <defs>\r\n       <path d=\"M 0 0 \r\nL 0 3.5 \r\n\" id=\"mc395255164\" style=\"stroke:#000000;stroke-width:0.8;\"/>\r\n      </defs>\r\n      <g>\r\n       <use style=\"stroke:#000000;stroke-width:0.8;\" x=\"30.3225\" xlink:href=\"#mc395255164\" y=\"225.041719\"/>\r\n      </g>\r\n     </g>\r\n     <g id=\"text_1\">\r\n      <!-- 0 -->\r\n      <defs>\r\n       <path d=\"M 31.78125 66.40625 \r\nQ 24.171875 66.40625 20.328125 58.90625 \r\nQ 16.5 51.421875 16.5 36.375 \r\nQ 16.5 21.390625 20.328125 13.890625 \r\nQ 24.171875 6.390625 31.78125 6.390625 \r\nQ 39.453125 6.390625 43.28125 13.890625 \r\nQ 47.125 21.390625 47.125 36.375 \r\nQ 47.125 51.421875 43.28125 58.90625 \r\nQ 39.453125 66.40625 31.78125 66.40625 \r\nz\r\nM 31.78125 74.21875 \r\nQ 44.046875 74.21875 50.515625 64.515625 \r\nQ 56.984375 54.828125 56.984375 36.375 \r\nQ 56.984375 17.96875 50.515625 8.265625 \r\nQ 44.046875 -1.421875 31.78125 -1.421875 \r\nQ 19.53125 -1.421875 13.0625 8.265625 \r\nQ 6.59375 17.96875 6.59375 36.375 \r\nQ 6.59375 54.828125 13.0625 64.515625 \r\nQ 19.53125 74.21875 31.78125 74.21875 \r\nz\r\n\" id=\"DejaVuSans-48\"/>\r\n      </defs>\r\n      <g transform=\"translate(27.14125 239.640156)scale(0.1 -0.1)\">\r\n       <use xlink:href=\"#DejaVuSans-48\"/>\r\n      </g>\r\n     </g>\r\n    </g>\r\n    <g id=\"xtick_2\">\r\n     <g id=\"line2d_2\">\r\n      <g>\r\n       <use style=\"stroke:#000000;stroke-width:0.8;\" x=\"64.2975\" xlink:href=\"#mc395255164\" y=\"225.041719\"/>\r\n      </g>\r\n     </g>\r\n     <g id=\"text_2\">\r\n      <!-- 5 -->\r\n      <defs>\r\n       <path d=\"M 10.796875 72.90625 \r\nL 49.515625 72.90625 \r\nL 49.515625 64.59375 \r\nL 19.828125 64.59375 \r\nL 19.828125 46.734375 \r\nQ 21.96875 47.46875 24.109375 47.828125 \r\nQ 26.265625 48.1875 28.421875 48.1875 \r\nQ 40.625 48.1875 47.75 41.5 \r\nQ 54.890625 34.8125 54.890625 23.390625 \r\nQ 54.890625 11.625 47.5625 5.09375 \r\nQ 40.234375 -1.421875 26.90625 -1.421875 \r\nQ 22.3125 -1.421875 17.546875 -0.640625 \r\nQ 12.796875 0.140625 7.71875 1.703125 \r\nL 7.71875 11.625 \r\nQ 12.109375 9.234375 16.796875 8.0625 \r\nQ 21.484375 6.890625 26.703125 6.890625 \r\nQ 35.15625 6.890625 40.078125 11.328125 \r\nQ 45.015625 15.765625 45.015625 23.390625 \r\nQ 45.015625 31 40.078125 35.4375 \r\nQ 35.15625 39.890625 26.703125 39.890625 \r\nQ 22.75 39.890625 18.8125 39.015625 \r\nQ 14.890625 38.140625 10.796875 36.28125 \r\nz\r\n\" id=\"DejaVuSans-53\"/>\r\n      </defs>\r\n      <g transform=\"translate(61.11625 239.640156)scale(0.1 -0.1)\">\r\n       <use xlink:href=\"#DejaVuSans-53\"/>\r\n      </g>\r\n     </g>\r\n    </g>\r\n    <g id=\"xtick_3\">\r\n     <g id=\"line2d_3\">\r\n      <g>\r\n       <use style=\"stroke:#000000;stroke-width:0.8;\" x=\"98.2725\" xlink:href=\"#mc395255164\" y=\"225.041719\"/>\r\n      </g>\r\n     </g>\r\n     <g id=\"text_3\">\r\n      <!-- 10 -->\r\n      <defs>\r\n       <path d=\"M 12.40625 8.296875 \r\nL 28.515625 8.296875 \r\nL 28.515625 63.921875 \r\nL 10.984375 60.40625 \r\nL 10.984375 69.390625 \r\nL 28.421875 72.90625 \r\nL 38.28125 72.90625 \r\nL 38.28125 8.296875 \r\nL 54.390625 8.296875 \r\nL 54.390625 0 \r\nL 12.40625 0 \r\nz\r\n\" id=\"DejaVuSans-49\"/>\r\n      </defs>\r\n      <g transform=\"translate(91.91 239.640156)scale(0.1 -0.1)\">\r\n       <use xlink:href=\"#DejaVuSans-49\"/>\r\n       <use x=\"63.623047\" xlink:href=\"#DejaVuSans-48\"/>\r\n      </g>\r\n     </g>\r\n    </g>\r\n    <g id=\"xtick_4\">\r\n     <g id=\"line2d_4\">\r\n      <g>\r\n       <use style=\"stroke:#000000;stroke-width:0.8;\" x=\"132.2475\" xlink:href=\"#mc395255164\" y=\"225.041719\"/>\r\n      </g>\r\n     </g>\r\n     <g id=\"text_4\">\r\n      <!-- 15 -->\r\n      <g transform=\"translate(125.885 239.640156)scale(0.1 -0.1)\">\r\n       <use xlink:href=\"#DejaVuSans-49\"/>\r\n       <use x=\"63.623047\" xlink:href=\"#DejaVuSans-53\"/>\r\n      </g>\r\n     </g>\r\n    </g>\r\n    <g id=\"xtick_5\">\r\n     <g id=\"line2d_5\">\r\n      <g>\r\n       <use style=\"stroke:#000000;stroke-width:0.8;\" x=\"166.2225\" xlink:href=\"#mc395255164\" y=\"225.041719\"/>\r\n      </g>\r\n     </g>\r\n     <g id=\"text_5\">\r\n      <!-- 20 -->\r\n      <defs>\r\n       <path d=\"M 19.1875 8.296875 \r\nL 53.609375 8.296875 \r\nL 53.609375 0 \r\nL 7.328125 0 \r\nL 7.328125 8.296875 \r\nQ 12.9375 14.109375 22.625 23.890625 \r\nQ 32.328125 33.6875 34.8125 36.53125 \r\nQ 39.546875 41.84375 41.421875 45.53125 \r\nQ 43.3125 49.21875 43.3125 52.78125 \r\nQ 43.3125 58.59375 39.234375 62.25 \r\nQ 35.15625 65.921875 28.609375 65.921875 \r\nQ 23.96875 65.921875 18.8125 64.3125 \r\nQ 13.671875 62.703125 7.8125 59.421875 \r\nL 7.8125 69.390625 \r\nQ 13.765625 71.78125 18.9375 73 \r\nQ 24.125 74.21875 28.421875 74.21875 \r\nQ 39.75 74.21875 46.484375 68.546875 \r\nQ 53.21875 62.890625 53.21875 53.421875 \r\nQ 53.21875 48.921875 51.53125 44.890625 \r\nQ 49.859375 40.875 45.40625 35.40625 \r\nQ 44.1875 33.984375 37.640625 27.21875 \r\nQ 31.109375 20.453125 19.1875 8.296875 \r\nz\r\n\" id=\"DejaVuSans-50\"/>\r\n      </defs>\r\n      <g transform=\"translate(159.86 239.640156)scale(0.1 -0.1)\">\r\n       <use xlink:href=\"#DejaVuSans-50\"/>\r\n       <use x=\"63.623047\" xlink:href=\"#DejaVuSans-48\"/>\r\n      </g>\r\n     </g>\r\n    </g>\r\n    <g id=\"xtick_6\">\r\n     <g id=\"line2d_6\">\r\n      <g>\r\n       <use style=\"stroke:#000000;stroke-width:0.8;\" x=\"200.1975\" xlink:href=\"#mc395255164\" y=\"225.041719\"/>\r\n      </g>\r\n     </g>\r\n     <g id=\"text_6\">\r\n      <!-- 25 -->\r\n      <g transform=\"translate(193.835 239.640156)scale(0.1 -0.1)\">\r\n       <use xlink:href=\"#DejaVuSans-50\"/>\r\n       <use x=\"63.623047\" xlink:href=\"#DejaVuSans-53\"/>\r\n      </g>\r\n     </g>\r\n    </g>\r\n    <g id=\"xtick_7\">\r\n     <g id=\"line2d_7\">\r\n      <g>\r\n       <use style=\"stroke:#000000;stroke-width:0.8;\" x=\"234.1725\" xlink:href=\"#mc395255164\" y=\"225.041719\"/>\r\n      </g>\r\n     </g>\r\n     <g id=\"text_7\">\r\n      <!-- 30 -->\r\n      <defs>\r\n       <path d=\"M 40.578125 39.3125 \r\nQ 47.65625 37.796875 51.625 33 \r\nQ 55.609375 28.21875 55.609375 21.1875 \r\nQ 55.609375 10.40625 48.1875 4.484375 \r\nQ 40.765625 -1.421875 27.09375 -1.421875 \r\nQ 22.515625 -1.421875 17.65625 -0.515625 \r\nQ 12.796875 0.390625 7.625 2.203125 \r\nL 7.625 11.71875 \r\nQ 11.71875 9.328125 16.59375 8.109375 \r\nQ 21.484375 6.890625 26.8125 6.890625 \r\nQ 36.078125 6.890625 40.9375 10.546875 \r\nQ 45.796875 14.203125 45.796875 21.1875 \r\nQ 45.796875 27.640625 41.28125 31.265625 \r\nQ 36.765625 34.90625 28.71875 34.90625 \r\nL 20.21875 34.90625 \r\nL 20.21875 43.015625 \r\nL 29.109375 43.015625 \r\nQ 36.375 43.015625 40.234375 45.921875 \r\nQ 44.09375 48.828125 44.09375 54.296875 \r\nQ 44.09375 59.90625 40.109375 62.90625 \r\nQ 36.140625 65.921875 28.71875 65.921875 \r\nQ 24.65625 65.921875 20.015625 65.03125 \r\nQ 15.375 64.15625 9.8125 62.3125 \r\nL 9.8125 71.09375 \r\nQ 15.4375 72.65625 20.34375 73.4375 \r\nQ 25.25 74.21875 29.59375 74.21875 \r\nQ 40.828125 74.21875 47.359375 69.109375 \r\nQ 53.90625 64.015625 53.90625 55.328125 \r\nQ 53.90625 49.265625 50.4375 45.09375 \r\nQ 46.96875 40.921875 40.578125 39.3125 \r\nz\r\n\" id=\"DejaVuSans-51\"/>\r\n      </defs>\r\n      <g transform=\"translate(227.81 239.640156)scale(0.1 -0.1)\">\r\n       <use xlink:href=\"#DejaVuSans-51\"/>\r\n       <use x=\"63.623047\" xlink:href=\"#DejaVuSans-48\"/>\r\n      </g>\r\n     </g>\r\n    </g>\r\n   </g>\r\n   <g id=\"matplotlib.axis_2\">\r\n    <g id=\"ytick_1\">\r\n     <g id=\"line2d_8\">\r\n      <defs>\r\n       <path d=\"M 0 0 \r\nL -3.5 0 \r\n\" id=\"m8f4eb62a96\" style=\"stroke:#000000;stroke-width:0.8;\"/>\r\n      </defs>\r\n      <g>\r\n       <use style=\"stroke:#000000;stroke-width:0.8;\" x=\"26.925\" xlink:href=\"#m8f4eb62a96\" y=\"10.999219\"/>\r\n      </g>\r\n     </g>\r\n     <g id=\"text_8\">\r\n      <!-- 0 -->\r\n      <g transform=\"translate(13.5625 14.798437)scale(0.1 -0.1)\">\r\n       <use xlink:href=\"#DejaVuSans-48\"/>\r\n      </g>\r\n     </g>\r\n    </g>\r\n    <g id=\"ytick_2\">\r\n     <g id=\"line2d_9\">\r\n      <g>\r\n       <use style=\"stroke:#000000;stroke-width:0.8;\" x=\"26.925\" xlink:href=\"#m8f4eb62a96\" y=\"44.974219\"/>\r\n      </g>\r\n     </g>\r\n     <g id=\"text_9\">\r\n      <!-- 5 -->\r\n      <g transform=\"translate(13.5625 48.773437)scale(0.1 -0.1)\">\r\n       <use xlink:href=\"#DejaVuSans-53\"/>\r\n      </g>\r\n     </g>\r\n    </g>\r\n    <g id=\"ytick_3\">\r\n     <g id=\"line2d_10\">\r\n      <g>\r\n       <use style=\"stroke:#000000;stroke-width:0.8;\" x=\"26.925\" xlink:href=\"#m8f4eb62a96\" y=\"78.949219\"/>\r\n      </g>\r\n     </g>\r\n     <g id=\"text_10\">\r\n      <!-- 10 -->\r\n      <g transform=\"translate(7.2 82.748437)scale(0.1 -0.1)\">\r\n       <use xlink:href=\"#DejaVuSans-49\"/>\r\n       <use x=\"63.623047\" xlink:href=\"#DejaVuSans-48\"/>\r\n      </g>\r\n     </g>\r\n    </g>\r\n    <g id=\"ytick_4\">\r\n     <g id=\"line2d_11\">\r\n      <g>\r\n       <use style=\"stroke:#000000;stroke-width:0.8;\" x=\"26.925\" xlink:href=\"#m8f4eb62a96\" y=\"112.924219\"/>\r\n      </g>\r\n     </g>\r\n     <g id=\"text_11\">\r\n      <!-- 15 -->\r\n      <g transform=\"translate(7.2 116.723437)scale(0.1 -0.1)\">\r\n       <use xlink:href=\"#DejaVuSans-49\"/>\r\n       <use x=\"63.623047\" xlink:href=\"#DejaVuSans-53\"/>\r\n      </g>\r\n     </g>\r\n    </g>\r\n    <g id=\"ytick_5\">\r\n     <g id=\"line2d_12\">\r\n      <g>\r\n       <use style=\"stroke:#000000;stroke-width:0.8;\" x=\"26.925\" xlink:href=\"#m8f4eb62a96\" y=\"146.899219\"/>\r\n      </g>\r\n     </g>\r\n     <g id=\"text_12\">\r\n      <!-- 20 -->\r\n      <g transform=\"translate(7.2 150.698437)scale(0.1 -0.1)\">\r\n       <use xlink:href=\"#DejaVuSans-50\"/>\r\n       <use x=\"63.623047\" xlink:href=\"#DejaVuSans-48\"/>\r\n      </g>\r\n     </g>\r\n    </g>\r\n    <g id=\"ytick_6\">\r\n     <g id=\"line2d_13\">\r\n      <g>\r\n       <use style=\"stroke:#000000;stroke-width:0.8;\" x=\"26.925\" xlink:href=\"#m8f4eb62a96\" y=\"180.874219\"/>\r\n      </g>\r\n     </g>\r\n     <g id=\"text_13\">\r\n      <!-- 25 -->\r\n      <g transform=\"translate(7.2 184.673437)scale(0.1 -0.1)\">\r\n       <use xlink:href=\"#DejaVuSans-50\"/>\r\n       <use x=\"63.623047\" xlink:href=\"#DejaVuSans-53\"/>\r\n      </g>\r\n     </g>\r\n    </g>\r\n    <g id=\"ytick_7\">\r\n     <g id=\"line2d_14\">\r\n      <g>\r\n       <use style=\"stroke:#000000;stroke-width:0.8;\" x=\"26.925\" xlink:href=\"#m8f4eb62a96\" y=\"214.849219\"/>\r\n      </g>\r\n     </g>\r\n     <g id=\"text_14\">\r\n      <!-- 30 -->\r\n      <g transform=\"translate(7.2 218.648437)scale(0.1 -0.1)\">\r\n       <use xlink:href=\"#DejaVuSans-51\"/>\r\n       <use x=\"63.623047\" xlink:href=\"#DejaVuSans-48\"/>\r\n      </g>\r\n     </g>\r\n    </g>\r\n   </g>\r\n   <g id=\"patch_3\">\r\n    <path d=\"M 26.925 225.041719 \r\nL 26.925 7.601719 \r\n\" style=\"fill:none;stroke:#000000;stroke-linecap:square;stroke-linejoin:miter;stroke-width:0.8;\"/>\r\n   </g>\r\n   <g id=\"patch_4\">\r\n    <path d=\"M 244.365 225.041719 \r\nL 244.365 7.601719 \r\n\" style=\"fill:none;stroke:#000000;stroke-linecap:square;stroke-linejoin:miter;stroke-width:0.8;\"/>\r\n   </g>\r\n   <g id=\"patch_5\">\r\n    <path d=\"M 26.925 225.041719 \r\nL 244.365 225.041719 \r\n\" style=\"fill:none;stroke:#000000;stroke-linecap:square;stroke-linejoin:miter;stroke-width:0.8;\"/>\r\n   </g>\r\n   <g id=\"patch_6\">\r\n    <path d=\"M 26.925 7.601719 \r\nL 244.365 7.601719 \r\n\" style=\"fill:none;stroke:#000000;stroke-linecap:square;stroke-linejoin:miter;stroke-width:0.8;\"/>\r\n   </g>\r\n  </g>\r\n </g>\r\n <defs>\r\n  <clipPath id=\"pf739c0d4e9\">\r\n   <rect height=\"217.44\" width=\"217.44\" x=\"26.925\" y=\"7.601719\"/>\r\n  </clipPath>\r\n </defs>\r\n</svg>\r\n",
      "image/png": "[encoded data removed]"
     },
     "metadata": {
      "needs_background": "light"
     }
    }
   ],
   "source": [
    "img, label = data_set[20]\n",
    "plt.imshow(img.permute(1,2,0))\n",
    "\n",
    "class_names[label]"
   ]
  },
  {
   "cell_type": "code",
   "execution_count": 16,
   "metadata": {},
   "outputs": [
    {
     "output_type": "execute_result",
     "data": {
      "text/plain": "tensor([[0.5820, 0.4180]], grad_fn=<SoftmaxBackward>)"
     },
     "metadata": {},
     "execution_count": 16
    }
   ],
   "source": [
    "out = model(img.view(-1).unsqueeze(0))\n",
    "out"
   ]
  },
  {
   "cell_type": "code",
   "execution_count": 17,
   "metadata": {
    "tags": []
   },
   "outputs": [
    {
     "output_type": "stream",
     "name": "stdout",
     "text": "->car model:car\n"
    }
   ],
   "source": [
    "_, index = torch.max(out, dim = 1)\n",
    "\n",
    "print('->',class_names[label],' model:',class_names[index])"
   ]
  },
  {
   "cell_type": "code",
   "execution_count": 18,
   "metadata": {},
   "outputs": [],
   "source": [
    "#Se le cambia la funcion a una logaritmica\n",
    "model = nn.Sequential(\n",
    "            nn.Linear(3 * 32 * 32, 512),  #Entrada\n",
    "            nn.Tanh(),    #Aplico la tangente hiperbolica\n",
    "            nn.Linear(512, 2), \n",
    "            nn.LogSoftmax(dim=1)) #Salida\n",
    "\n",
    "loss_function = nn.NLLLoss()"
   ]
  },
  {
   "cell_type": "code",
   "execution_count": 19,
   "metadata": {
    "tags": []
   },
   "outputs": [
    {
     "output_type": "stream",
     "name": "stderr",
     "text": "Clipping input data to the valid range for imshow with RGB data ([0..1] for floats or [0..255] for integers).\n"
    },
    {
     "output_type": "execute_result",
     "data": {
      "text/plain": "'cat'"
     },
     "metadata": {},
     "execution_count": 19
    },
    {
     "output_type": "display_data",
     "data": {
      "text/plain": "<Figure size 432x288 with 1 Axes>",
      "image/svg+xml": "<?xml version=\"1.0\" encoding=\"utf-8\" standalone=\"no\"?>\r\n<!DOCTYPE svg PUBLIC \"-//W3C//DTD SVG 1.1//EN\"\r\n  \"http://www.w3.org/Graphics/SVG/1.1/DTD/svg11.dtd\">\r\n<!-- Created with matplotlib (https://matplotlib.org/) -->\r\n<svg height=\"248.919844pt\" version=\"1.1\" viewBox=\"0 0 251.565 248.919844\" width=\"251.565pt\" xmlns=\"http://www.w3.org/2000/svg\" xmlns:xlink=\"http://www.w3.org/1999/xlink\">\r\n <defs>\r\n  <style type=\"text/css\">\r\n*{stroke-linecap:butt;stroke-linejoin:round;}\r\n  </style>\r\n </defs>\r\n <g id=\"figure_1\">\r\n  <g id=\"patch_1\">\r\n   <path d=\"M 0 248.919844 \r\nL 251.565 248.919844 \r\nL 251.565 0 \r\nL 0 0 \r\nz\r\n\" style=\"fill:none;\"/>\r\n  </g>\r\n  <g id=\"axes_1\">\r\n   <g id=\"patch_2\">\r\n    <path d=\"M 26.925 225.041719 \r\nL 244.365 225.041719 \r\nL 244.365 7.601719 \r\nL 26.925 7.601719 \r\nz\r\n\" style=\"fill:#ffffff;\"/>\r\n   </g>\r\n   <g clip-path=\"url(#pf90c5efe64)\">\r\n    <image height=\"218\" id=\"image3f7e436de2\" transform=\"scale(1 -1)translate(0 -218)\" width=\"218\" x=\"26.925\" xlink:href=\"data:image/png;base64,\r\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\" y=\"-7.041719\"/>\r\n   </g>\r\n   <g id=\"matplotlib.axis_1\">\r\n    <g id=\"xtick_1\">\r\n     <g id=\"line2d_1\">\r\n      <defs>\r\n       <path d=\"M 0 0 \r\nL 0 3.5 \r\n\" id=\"m28df1ebbcf\" style=\"stroke:#000000;stroke-width:0.8;\"/>\r\n      </defs>\r\n      <g>\r\n       <use style=\"stroke:#000000;stroke-width:0.8;\" x=\"30.3225\" xlink:href=\"#m28df1ebbcf\" y=\"225.041719\"/>\r\n      </g>\r\n     </g>\r\n     <g id=\"text_1\">\r\n      <!-- 0 -->\r\n      <defs>\r\n       <path d=\"M 31.78125 66.40625 \r\nQ 24.171875 66.40625 20.328125 58.90625 \r\nQ 16.5 51.421875 16.5 36.375 \r\nQ 16.5 21.390625 20.328125 13.890625 \r\nQ 24.171875 6.390625 31.78125 6.390625 \r\nQ 39.453125 6.390625 43.28125 13.890625 \r\nQ 47.125 21.390625 47.125 36.375 \r\nQ 47.125 51.421875 43.28125 58.90625 \r\nQ 39.453125 66.40625 31.78125 66.40625 \r\nz\r\nM 31.78125 74.21875 \r\nQ 44.046875 74.21875 50.515625 64.515625 \r\nQ 56.984375 54.828125 56.984375 36.375 \r\nQ 56.984375 17.96875 50.515625 8.265625 \r\nQ 44.046875 -1.421875 31.78125 -1.421875 \r\nQ 19.53125 -1.421875 13.0625 8.265625 \r\nQ 6.59375 17.96875 6.59375 36.375 \r\nQ 6.59375 54.828125 13.0625 64.515625 \r\nQ 19.53125 74.21875 31.78125 74.21875 \r\nz\r\n\" id=\"DejaVuSans-48\"/>\r\n      </defs>\r\n      <g transform=\"translate(27.14125 239.640156)scale(0.1 -0.1)\">\r\n       <use xlink:href=\"#DejaVuSans-48\"/>\r\n      </g>\r\n     </g>\r\n    </g>\r\n    <g id=\"xtick_2\">\r\n     <g id=\"line2d_2\">\r\n      <g>\r\n       <use style=\"stroke:#000000;stroke-width:0.8;\" x=\"64.2975\" xlink:href=\"#m28df1ebbcf\" y=\"225.041719\"/>\r\n      </g>\r\n     </g>\r\n     <g id=\"text_2\">\r\n      <!-- 5 -->\r\n      <defs>\r\n       <path d=\"M 10.796875 72.90625 \r\nL 49.515625 72.90625 \r\nL 49.515625 64.59375 \r\nL 19.828125 64.59375 \r\nL 19.828125 46.734375 \r\nQ 21.96875 47.46875 24.109375 47.828125 \r\nQ 26.265625 48.1875 28.421875 48.1875 \r\nQ 40.625 48.1875 47.75 41.5 \r\nQ 54.890625 34.8125 54.890625 23.390625 \r\nQ 54.890625 11.625 47.5625 5.09375 \r\nQ 40.234375 -1.421875 26.90625 -1.421875 \r\nQ 22.3125 -1.421875 17.546875 -0.640625 \r\nQ 12.796875 0.140625 7.71875 1.703125 \r\nL 7.71875 11.625 \r\nQ 12.109375 9.234375 16.796875 8.0625 \r\nQ 21.484375 6.890625 26.703125 6.890625 \r\nQ 35.15625 6.890625 40.078125 11.328125 \r\nQ 45.015625 15.765625 45.015625 23.390625 \r\nQ 45.015625 31 40.078125 35.4375 \r\nQ 35.15625 39.890625 26.703125 39.890625 \r\nQ 22.75 39.890625 18.8125 39.015625 \r\nQ 14.890625 38.140625 10.796875 36.28125 \r\nz\r\n\" id=\"DejaVuSans-53\"/>\r\n      </defs>\r\n      <g transform=\"translate(61.11625 239.640156)scale(0.1 -0.1)\">\r\n       <use xlink:href=\"#DejaVuSans-53\"/>\r\n      </g>\r\n     </g>\r\n    </g>\r\n    <g id=\"xtick_3\">\r\n     <g id=\"line2d_3\">\r\n      <g>\r\n       <use style=\"stroke:#000000;stroke-width:0.8;\" x=\"98.2725\" xlink:href=\"#m28df1ebbcf\" y=\"225.041719\"/>\r\n      </g>\r\n     </g>\r\n     <g id=\"text_3\">\r\n      <!-- 10 -->\r\n      <defs>\r\n       <path d=\"M 12.40625 8.296875 \r\nL 28.515625 8.296875 \r\nL 28.515625 63.921875 \r\nL 10.984375 60.40625 \r\nL 10.984375 69.390625 \r\nL 28.421875 72.90625 \r\nL 38.28125 72.90625 \r\nL 38.28125 8.296875 \r\nL 54.390625 8.296875 \r\nL 54.390625 0 \r\nL 12.40625 0 \r\nz\r\n\" id=\"DejaVuSans-49\"/>\r\n      </defs>\r\n      <g transform=\"translate(91.91 239.640156)scale(0.1 -0.1)\">\r\n       <use xlink:href=\"#DejaVuSans-49\"/>\r\n       <use x=\"63.623047\" xlink:href=\"#DejaVuSans-48\"/>\r\n      </g>\r\n     </g>\r\n    </g>\r\n    <g id=\"xtick_4\">\r\n     <g id=\"line2d_4\">\r\n      <g>\r\n       <use style=\"stroke:#000000;stroke-width:0.8;\" x=\"132.2475\" xlink:href=\"#m28df1ebbcf\" y=\"225.041719\"/>\r\n      </g>\r\n     </g>\r\n     <g id=\"text_4\">\r\n      <!-- 15 -->\r\n      <g transform=\"translate(125.885 239.640156)scale(0.1 -0.1)\">\r\n       <use xlink:href=\"#DejaVuSans-49\"/>\r\n       <use x=\"63.623047\" xlink:href=\"#DejaVuSans-53\"/>\r\n      </g>\r\n     </g>\r\n    </g>\r\n    <g id=\"xtick_5\">\r\n     <g id=\"line2d_5\">\r\n      <g>\r\n       <use style=\"stroke:#000000;stroke-width:0.8;\" x=\"166.2225\" xlink:href=\"#m28df1ebbcf\" y=\"225.041719\"/>\r\n      </g>\r\n     </g>\r\n     <g id=\"text_5\">\r\n      <!-- 20 -->\r\n      <defs>\r\n       <path d=\"M 19.1875 8.296875 \r\nL 53.609375 8.296875 \r\nL 53.609375 0 \r\nL 7.328125 0 \r\nL 7.328125 8.296875 \r\nQ 12.9375 14.109375 22.625 23.890625 \r\nQ 32.328125 33.6875 34.8125 36.53125 \r\nQ 39.546875 41.84375 41.421875 45.53125 \r\nQ 43.3125 49.21875 43.3125 52.78125 \r\nQ 43.3125 58.59375 39.234375 62.25 \r\nQ 35.15625 65.921875 28.609375 65.921875 \r\nQ 23.96875 65.921875 18.8125 64.3125 \r\nQ 13.671875 62.703125 7.8125 59.421875 \r\nL 7.8125 69.390625 \r\nQ 13.765625 71.78125 18.9375 73 \r\nQ 24.125 74.21875 28.421875 74.21875 \r\nQ 39.75 74.21875 46.484375 68.546875 \r\nQ 53.21875 62.890625 53.21875 53.421875 \r\nQ 53.21875 48.921875 51.53125 44.890625 \r\nQ 49.859375 40.875 45.40625 35.40625 \r\nQ 44.1875 33.984375 37.640625 27.21875 \r\nQ 31.109375 20.453125 19.1875 8.296875 \r\nz\r\n\" id=\"DejaVuSans-50\"/>\r\n      </defs>\r\n      <g transform=\"translate(159.86 239.640156)scale(0.1 -0.1)\">\r\n       <use xlink:href=\"#DejaVuSans-50\"/>\r\n       <use x=\"63.623047\" xlink:href=\"#DejaVuSans-48\"/>\r\n      </g>\r\n     </g>\r\n    </g>\r\n    <g id=\"xtick_6\">\r\n     <g id=\"line2d_6\">\r\n      <g>\r\n       <use style=\"stroke:#000000;stroke-width:0.8;\" x=\"200.1975\" xlink:href=\"#m28df1ebbcf\" y=\"225.041719\"/>\r\n      </g>\r\n     </g>\r\n     <g id=\"text_6\">\r\n      <!-- 25 -->\r\n      <g transform=\"translate(193.835 239.640156)scale(0.1 -0.1)\">\r\n       <use xlink:href=\"#DejaVuSans-50\"/>\r\n       <use x=\"63.623047\" xlink:href=\"#DejaVuSans-53\"/>\r\n      </g>\r\n     </g>\r\n    </g>\r\n    <g id=\"xtick_7\">\r\n     <g id=\"line2d_7\">\r\n      <g>\r\n       <use style=\"stroke:#000000;stroke-width:0.8;\" x=\"234.1725\" xlink:href=\"#m28df1ebbcf\" y=\"225.041719\"/>\r\n      </g>\r\n     </g>\r\n     <g id=\"text_7\">\r\n      <!-- 30 -->\r\n      <defs>\r\n       <path d=\"M 40.578125 39.3125 \r\nQ 47.65625 37.796875 51.625 33 \r\nQ 55.609375 28.21875 55.609375 21.1875 \r\nQ 55.609375 10.40625 48.1875 4.484375 \r\nQ 40.765625 -1.421875 27.09375 -1.421875 \r\nQ 22.515625 -1.421875 17.65625 -0.515625 \r\nQ 12.796875 0.390625 7.625 2.203125 \r\nL 7.625 11.71875 \r\nQ 11.71875 9.328125 16.59375 8.109375 \r\nQ 21.484375 6.890625 26.8125 6.890625 \r\nQ 36.078125 6.890625 40.9375 10.546875 \r\nQ 45.796875 14.203125 45.796875 21.1875 \r\nQ 45.796875 27.640625 41.28125 31.265625 \r\nQ 36.765625 34.90625 28.71875 34.90625 \r\nL 20.21875 34.90625 \r\nL 20.21875 43.015625 \r\nL 29.109375 43.015625 \r\nQ 36.375 43.015625 40.234375 45.921875 \r\nQ 44.09375 48.828125 44.09375 54.296875 \r\nQ 44.09375 59.90625 40.109375 62.90625 \r\nQ 36.140625 65.921875 28.71875 65.921875 \r\nQ 24.65625 65.921875 20.015625 65.03125 \r\nQ 15.375 64.15625 9.8125 62.3125 \r\nL 9.8125 71.09375 \r\nQ 15.4375 72.65625 20.34375 73.4375 \r\nQ 25.25 74.21875 29.59375 74.21875 \r\nQ 40.828125 74.21875 47.359375 69.109375 \r\nQ 53.90625 64.015625 53.90625 55.328125 \r\nQ 53.90625 49.265625 50.4375 45.09375 \r\nQ 46.96875 40.921875 40.578125 39.3125 \r\nz\r\n\" id=\"DejaVuSans-51\"/>\r\n      </defs>\r\n      <g transform=\"translate(227.81 239.640156)scale(0.1 -0.1)\">\r\n       <use xlink:href=\"#DejaVuSans-51\"/>\r\n       <use x=\"63.623047\" xlink:href=\"#DejaVuSans-48\"/>\r\n      </g>\r\n     </g>\r\n    </g>\r\n   </g>\r\n   <g id=\"matplotlib.axis_2\">\r\n    <g id=\"ytick_1\">\r\n     <g id=\"line2d_8\">\r\n      <defs>\r\n       <path d=\"M 0 0 \r\nL -3.5 0 \r\n\" id=\"m00e82fc933\" style=\"stroke:#000000;stroke-width:0.8;\"/>\r\n      </defs>\r\n      <g>\r\n       <use style=\"stroke:#000000;stroke-width:0.8;\" x=\"26.925\" xlink:href=\"#m00e82fc933\" y=\"10.999219\"/>\r\n      </g>\r\n     </g>\r\n     <g id=\"text_8\">\r\n      <!-- 0 -->\r\n      <g transform=\"translate(13.5625 14.798437)scale(0.1 -0.1)\">\r\n       <use xlink:href=\"#DejaVuSans-48\"/>\r\n      </g>\r\n     </g>\r\n    </g>\r\n    <g id=\"ytick_2\">\r\n     <g id=\"line2d_9\">\r\n      <g>\r\n       <use style=\"stroke:#000000;stroke-width:0.8;\" x=\"26.925\" xlink:href=\"#m00e82fc933\" y=\"44.974219\"/>\r\n      </g>\r\n     </g>\r\n     <g id=\"text_9\">\r\n      <!-- 5 -->\r\n      <g transform=\"translate(13.5625 48.773437)scale(0.1 -0.1)\">\r\n       <use xlink:href=\"#DejaVuSans-53\"/>\r\n      </g>\r\n     </g>\r\n    </g>\r\n    <g id=\"ytick_3\">\r\n     <g id=\"line2d_10\">\r\n      <g>\r\n       <use style=\"stroke:#000000;stroke-width:0.8;\" x=\"26.925\" xlink:href=\"#m00e82fc933\" y=\"78.949219\"/>\r\n      </g>\r\n     </g>\r\n     <g id=\"text_10\">\r\n      <!-- 10 -->\r\n      <g transform=\"translate(7.2 82.748437)scale(0.1 -0.1)\">\r\n       <use xlink:href=\"#DejaVuSans-49\"/>\r\n       <use x=\"63.623047\" xlink:href=\"#DejaVuSans-48\"/>\r\n      </g>\r\n     </g>\r\n    </g>\r\n    <g id=\"ytick_4\">\r\n     <g id=\"line2d_11\">\r\n      <g>\r\n       <use style=\"stroke:#000000;stroke-width:0.8;\" x=\"26.925\" xlink:href=\"#m00e82fc933\" y=\"112.924219\"/>\r\n      </g>\r\n     </g>\r\n     <g id=\"text_11\">\r\n      <!-- 15 -->\r\n      <g transform=\"translate(7.2 116.723437)scale(0.1 -0.1)\">\r\n       <use xlink:href=\"#DejaVuSans-49\"/>\r\n       <use x=\"63.623047\" xlink:href=\"#DejaVuSans-53\"/>\r\n      </g>\r\n     </g>\r\n    </g>\r\n    <g id=\"ytick_5\">\r\n     <g id=\"line2d_12\">\r\n      <g>\r\n       <use style=\"stroke:#000000;stroke-width:0.8;\" x=\"26.925\" xlink:href=\"#m00e82fc933\" y=\"146.899219\"/>\r\n      </g>\r\n     </g>\r\n     <g id=\"text_12\">\r\n      <!-- 20 -->\r\n      <g transform=\"translate(7.2 150.698437)scale(0.1 -0.1)\">\r\n       <use xlink:href=\"#DejaVuSans-50\"/>\r\n       <use x=\"63.623047\" xlink:href=\"#DejaVuSans-48\"/>\r\n      </g>\r\n     </g>\r\n    </g>\r\n    <g id=\"ytick_6\">\r\n     <g id=\"line2d_13\">\r\n      <g>\r\n       <use style=\"stroke:#000000;stroke-width:0.8;\" x=\"26.925\" xlink:href=\"#m00e82fc933\" y=\"180.874219\"/>\r\n      </g>\r\n     </g>\r\n     <g id=\"text_13\">\r\n      <!-- 25 -->\r\n      <g transform=\"translate(7.2 184.673437)scale(0.1 -0.1)\">\r\n       <use xlink:href=\"#DejaVuSans-50\"/>\r\n       <use x=\"63.623047\" xlink:href=\"#DejaVuSans-53\"/>\r\n      </g>\r\n     </g>\r\n    </g>\r\n    <g id=\"ytick_7\">\r\n     <g id=\"line2d_14\">\r\n      <g>\r\n       <use style=\"stroke:#000000;stroke-width:0.8;\" x=\"26.925\" xlink:href=\"#m00e82fc933\" y=\"214.849219\"/>\r\n      </g>\r\n     </g>\r\n     <g id=\"text_14\">\r\n      <!-- 30 -->\r\n      <g transform=\"translate(7.2 218.648437)scale(0.1 -0.1)\">\r\n       <use xlink:href=\"#DejaVuSans-51\"/>\r\n       <use x=\"63.623047\" xlink:href=\"#DejaVuSans-48\"/>\r\n      </g>\r\n     </g>\r\n    </g>\r\n   </g>\r\n   <g id=\"patch_3\">\r\n    <path d=\"M 26.925 225.041719 \r\nL 26.925 7.601719 \r\n\" style=\"fill:none;stroke:#000000;stroke-linecap:square;stroke-linejoin:miter;stroke-width:0.8;\"/>\r\n   </g>\r\n   <g id=\"patch_4\">\r\n    <path d=\"M 244.365 225.041719 \r\nL 244.365 7.601719 \r\n\" style=\"fill:none;stroke:#000000;stroke-linecap:square;stroke-linejoin:miter;stroke-width:0.8;\"/>\r\n   </g>\r\n   <g id=\"patch_5\">\r\n    <path d=\"M 26.925 225.041719 \r\nL 244.365 225.041719 \r\n\" style=\"fill:none;stroke:#000000;stroke-linecap:square;stroke-linejoin:miter;stroke-width:0.8;\"/>\r\n   </g>\r\n   <g id=\"patch_6\">\r\n    <path d=\"M 26.925 7.601719 \r\nL 244.365 7.601719 \r\n\" style=\"fill:none;stroke:#000000;stroke-linecap:square;stroke-linejoin:miter;stroke-width:0.8;\"/>\r\n   </g>\r\n  </g>\r\n </g>\r\n <defs>\r\n  <clipPath id=\"pf90c5efe64\">\r\n   <rect height=\"217.44\" width=\"217.44\" x=\"26.925\" y=\"7.601719\"/>\r\n  </clipPath>\r\n </defs>\r\n</svg>\r\n",
      "image/png": "[encoded data removed]"
     },
     "metadata": {
      "needs_background": "light"
     }
    }
   ],
   "source": [
    "img, label = data_set[50]\n",
    "plt.imshow(img.permute(1,2,0))\n",
    "\n",
    "class_names[label]"
   ]
  },
  {
   "cell_type": "code",
   "execution_count": 20,
   "metadata": {
    "tags": []
   },
   "outputs": [
    {
     "output_type": "stream",
     "name": "stdout",
     "text": "tensor([[-0.6333, -0.7569]], grad_fn=<LogSoftmaxBackward>)\n->cat model:car\n"
    }
   ],
   "source": [
    "out = model(img.view(-1).unsqueeze(0))\n",
    "print(out)\n",
    "print('->',class_names[label],' model:',class_names[index])"
   ]
  },
  {
   "cell_type": "code",
   "execution_count": 3,
   "metadata": {
    "tags": []
   },
   "outputs": [
    {
     "output_type": "error",
     "ename": "NameError",
     "evalue": "name 'data_set' is not defined",
     "traceback": [
      "\u001b[1;31m---------------------------------------------------------------------------\u001b[0m",
      "\u001b[1;31mNameError\u001b[0m                                 Traceback (most recent call last)",
      "\u001b[1;32m<ipython-input-3-2473fb3a5dcf>\u001b[0m in \u001b[0;36m<module>\u001b[1;34m\u001b[0m\n\u001b[0;32m     12\u001b[0m \u001b[1;33m\u001b[0m\u001b[0m\n\u001b[0;32m     13\u001b[0m \u001b[1;32mfor\u001b[0m \u001b[0mepoch\u001b[0m \u001b[1;32min\u001b[0m \u001b[0mrange\u001b[0m\u001b[1;33m(\u001b[0m\u001b[0mn_epochs\u001b[0m\u001b[1;33m)\u001b[0m\u001b[1;33m:\u001b[0m\u001b[1;33m\u001b[0m\u001b[1;33m\u001b[0m\u001b[0m\n\u001b[1;32m---> 14\u001b[1;33m     \u001b[1;32mfor\u001b[0m \u001b[0mimg\u001b[0m\u001b[1;33m,\u001b[0m \u001b[0mlabel\u001b[0m \u001b[1;32min\u001b[0m \u001b[0mdata_set\u001b[0m\u001b[1;33m:\u001b[0m\u001b[1;33m\u001b[0m\u001b[1;33m\u001b[0m\u001b[0m\n\u001b[0m\u001b[0;32m     15\u001b[0m         \u001b[0mout\u001b[0m \u001b[1;33m=\u001b[0m \u001b[0mmodel\u001b[0m\u001b[1;33m(\u001b[0m\u001b[0mimg\u001b[0m\u001b[1;33m.\u001b[0m\u001b[0mview\u001b[0m\u001b[1;33m(\u001b[0m\u001b[1;33m-\u001b[0m\u001b[1;36m1\u001b[0m\u001b[1;33m)\u001b[0m\u001b[1;33m.\u001b[0m\u001b[0munsqueeze\u001b[0m\u001b[1;33m(\u001b[0m\u001b[1;36m0\u001b[0m\u001b[1;33m)\u001b[0m\u001b[1;33m)\u001b[0m\u001b[1;33m\u001b[0m\u001b[1;33m\u001b[0m\u001b[0m\n\u001b[0;32m     16\u001b[0m         \u001b[0mloss\u001b[0m \u001b[1;33m=\u001b[0m \u001b[0mloss_function\u001b[0m\u001b[1;33m(\u001b[0m\u001b[0mout\u001b[0m\u001b[1;33m,\u001b[0m \u001b[0mtorch\u001b[0m\u001b[1;33m.\u001b[0m\u001b[0mtensor\u001b[0m\u001b[1;33m(\u001b[0m\u001b[1;33m[\u001b[0m\u001b[0mlabel\u001b[0m\u001b[1;33m]\u001b[0m\u001b[1;33m)\u001b[0m\u001b[1;33m)\u001b[0m\u001b[1;33m\u001b[0m\u001b[1;33m\u001b[0m\u001b[0m\n",
      "\u001b[1;31mNameError\u001b[0m: name 'data_set' is not defined"
     ]
    }
   ],
   "source": [
    "model = nn.Sequential(\n",
    "            nn.Linear(3 * 32 * 32, 512),  #Entrada\n",
    "            nn.Tanh(),    #Aplico la tangente hiperbolica\n",
    "            nn.Linear(512, 2), \n",
    "            nn.LogSoftmax(dim=1)) #Salida\n",
    "\n",
    "loss_function = nn.NLLLoss()\n",
    "\n",
    "optimizer = optim.SGD(model.parameters(), lr = 0.01)\n",
    "\n",
    "n_epochs = 5\n",
    "\n",
    "for epoch in range(n_epochs):\n",
    "    for img, label in data_set:\n",
    "        out = model(img.view(-1).unsqueeze(0))\n",
    "        loss = loss_function(out, torch.tensor([label]))\n",
    "\n",
    "        optimizer.zero_grad()\n",
    "        loss.backward()\n",
    "        optimizer.step()\n",
    "\n",
    "    print(\"Epoch: %d, Loss: %f\" % (epoch, float(loss)))"
   ]
  },
  {
   "cell_type": "code",
   "execution_count": 30,
   "metadata": {
    "tags": []
   },
   "outputs": [
    {
     "output_type": "stream",
     "name": "stdout",
     "text": "Epoch: 0, Loss: 0.442351\nEpoch: 1, Loss: 0.282523\nEpoch: 2, Loss: 0.492799\nEpoch: 3, Loss: 0.216868\nEpoch: 4, Loss: 0.153769\nEpoch: 5, Loss: 0.356302\nEpoch: 6, Loss: 0.507051\nEpoch: 7, Loss: 0.707978\nEpoch: 8, Loss: 0.470123\nEpoch: 9, Loss: 0.248578\nEpoch: 10, Loss: 0.230407\nEpoch: 11, Loss: 0.224677\nEpoch: 12, Loss: 0.122586\nEpoch: 13, Loss: 0.074876\nEpoch: 14, Loss: 0.243640\nEpoch: 15, Loss: 0.117374\nEpoch: 16, Loss: 0.221029\nEpoch: 17, Loss: 0.211517\nEpoch: 18, Loss: 0.320784\nEpoch: 19, Loss: 0.163304\nEpoch: 20, Loss: 0.099423\nEpoch: 21, Loss: 0.080418\nEpoch: 22, Loss: 0.092337\nEpoch: 23, Loss: 0.236122\nEpoch: 24, Loss: 0.043331\nEpoch: 25, Loss: 0.093276\nEpoch: 26, Loss: 0.173025\nEpoch: 27, Loss: 0.081044\nEpoch: 28, Loss: 0.111778\nEpoch: 29, Loss: 0.247456\nEpoch: 30, Loss: 0.072823\nEpoch: 31, Loss: 0.048939\nEpoch: 32, Loss: 0.084388\nEpoch: 33, Loss: 0.078874\nEpoch: 34, Loss: 0.091310\nEpoch: 35, Loss: 0.079988\nEpoch: 36, Loss: 0.054604\nEpoch: 37, Loss: 0.057449\nEpoch: 38, Loss: 0.038140\nEpoch: 39, Loss: 0.090023\nEpoch: 40, Loss: 0.047248\nEpoch: 41, Loss: 0.031224\nEpoch: 42, Loss: 0.113142\nEpoch: 43, Loss: 0.045316\nEpoch: 44, Loss: 0.035784\nEpoch: 45, Loss: 0.035570\nEpoch: 46, Loss: 0.091525\nEpoch: 47, Loss: 0.155716\nEpoch: 48, Loss: 0.019313\nEpoch: 49, Loss: 0.020001\nEpoch: 50, Loss: 0.010458\nEpoch: 51, Loss: 0.016005\nEpoch: 52, Loss: 0.035441\nEpoch: 53, Loss: 0.013636\nEpoch: 54, Loss: 0.025954\nEpoch: 55, Loss: 0.023516\nEpoch: 56, Loss: 0.007986\nEpoch: 57, Loss: 0.013890\nEpoch: 58, Loss: 0.028360\nEpoch: 59, Loss: 0.017363\nEpoch: 60, Loss: 0.037984\nEpoch: 61, Loss: 0.028617\nEpoch: 62, Loss: 0.015866\nEpoch: 63, Loss: 0.006249\nEpoch: 64, Loss: 0.005091\nEpoch: 65, Loss: 0.013582\nEpoch: 66, Loss: 0.013850\nEpoch: 67, Loss: 0.007323\nEpoch: 68, Loss: 0.013504\nEpoch: 69, Loss: 0.015916\nEpoch: 70, Loss: 0.009185\nEpoch: 71, Loss: 0.009252\nEpoch: 72, Loss: 0.016049\nEpoch: 73, Loss: 0.027640\nEpoch: 74, Loss: 0.012743\nEpoch: 75, Loss: 0.007711\nEpoch: 76, Loss: 0.017409\nEpoch: 77, Loss: 0.015882\nEpoch: 78, Loss: 0.004936\nEpoch: 79, Loss: 0.011984\nEpoch: 80, Loss: 0.004889\nEpoch: 81, Loss: 0.012052\nEpoch: 82, Loss: 0.006034\nEpoch: 83, Loss: 0.019681\nEpoch: 84, Loss: 0.008644\nEpoch: 85, Loss: 0.011373\nEpoch: 86, Loss: 0.008375\nEpoch: 87, Loss: 0.005702\nEpoch: 88, Loss: 0.008763\nEpoch: 89, Loss: 0.001947\nEpoch: 90, Loss: 0.002921\nEpoch: 91, Loss: 0.005387\nEpoch: 92, Loss: 0.006784\nEpoch: 93, Loss: 0.010505\nEpoch: 94, Loss: 0.015631\nEpoch: 95, Loss: 0.007120\nEpoch: 96, Loss: 0.006378\nEpoch: 97, Loss: 0.006843\nEpoch: 98, Loss: 0.003722\nEpoch: 99, Loss: 0.008684\n"
    }
   ],
   "source": [
    "\n",
    "train_loader = torch.utils.data.DataLoader(data_set, batch_size=64, shuffle=True)\n",
    "\n",
    "model = nn.Sequential(\n",
    "            nn.Linear(3 * 32 * 32, 512),  #Entrada\n",
    "            nn.Tanh(),    #Aplico la tangente hiperbolica\n",
    "            nn.Linear(512, 2), \n",
    "            nn.LogSoftmax(dim=1)) #Salida\n",
    "\n",
    "loss_function = nn.NLLLoss()\n",
    "\n",
    "optimizer = optim.SGD(model.parameters(), lr = 0.01)\n",
    "\n",
    "n_epochs = 100\n",
    "\n",
    "for epoch in range(n_epochs):\n",
    "    for img, label in train_loader:\n",
    "        out = model(img.view(img.shape[0], -1))\n",
    "        loss = loss_function(out, label)\n",
    "\n",
    "        optimizer.zero_grad()\n",
    "        loss.backward()\n",
    "        optimizer.step()\n",
    "\n",
    "    print(\"Epoch: %d, Loss: %f\" % (epoch, float(loss)))"
   ]
  },
  {
   "cell_type": "code",
   "execution_count": null,
   "metadata": {
    "tags": []
   },
   "outputs": [],
   "source": [
    "val_loader = torch.utils.data.DataLoader(validation_set, batch_size=64, shuffle=False)\n",
    "\n",
    "correct = 0\n",
    "total = 0\n",
    "\n",
    "with torch.no_grad():\n",
    "    for imgs, labels in val_loader:\n",
    "        outputs = model(imgs.view(imgs.shape[0], -1))\n",
    "        _, predicted = torch.max(outputs, dim=1)\n",
    "        total += labels.shape[0]\n",
    "\n",
    "        correct += int((predicted == labels).sum())\n",
    "      \n",
    "print(\"Accuracy: %f\" % (correct / total))"
   ]
  },
  {
   "cell_type": "code",
   "execution_count": null,
   "metadata": {
    "tags": []
   },
   "outputs": [],
   "source": [
    "img, label = validation_set[20]\n",
    "out = model(img.view(-1).unsqueeze(0))\n",
    "_, index = torch.max(out, dim=1)\n",
    "\n",
    "print('->: ',class_names[label],' model:',class_names[index])\n",
    "plt.imshow(img.permute(1, 2, 0))\n",
    "plt.show()"
   ]
  },
  {
   "cell_type": "code",
   "execution_count": null,
   "metadata": {
    "tags": []
   },
   "outputs": [],
   "source": [
    "#Mejoras, agrego funciones para mejorar, y acercarme las probabilidades a 1 o 0\n",
    "\n",
    "\n",
    "\n",
    "train_loader = torch.utils.data.DataLoader(data_set, batch_size=64, shuffle=True)\n",
    "\n",
    "model = nn.Sequential(\n",
    "            nn.Linear(3072, 1024),  #Entrada\n",
    "            nn.Tanh(),    #Aplico la tangente hiperbolica\n",
    "            nn.Linear(1024,512),\n",
    "            nn.Tanh(),\n",
    "            nn.Linear(512,128),\n",
    "            nn.Tanh(),\n",
    "            nn.Linear(128, 2)) #Salida\n",
    "\n",
    "loss_function = nn.CrossEntropyLoss()\n",
    "\n",
    "optimizer = optim.SGD(model.parameters(), lr = 0.01)\n",
    "\n",
    "n_epochs = 100\n",
    "\n",
    "for epoch in range(n_epochs):\n",
    "    for img, label in train_loader:\n",
    "        out = model(img.view(img.shape[0], -1))\n",
    "        loss = loss_function(out, label)\n",
    "\n",
    "        optimizer.zero_grad()\n",
    "        loss.backward()\n",
    "        optimizer.step()\n",
    "\n",
    "    print(\"Epoch: %d, Loss: %f\" % (epoch, float(loss)))"
   ]
  },
  {
   "cell_type": "code",
   "execution_count": null,
   "metadata": {
    "tags": []
   },
   "outputs": [],
   "source": [
    "val_loader = torch.utils.data.DataLoader(validation_set, batch_size=64, shuffle=False)\n",
    "\n",
    "correct = 0\n",
    "total = 0\n",
    "\n",
    "with torch.no_grad():\n",
    "    for imgs, labels in val_loader:\n",
    "        outputs = model(imgs.view(imgs.shape[0], -1))\n",
    "        _, predicted = torch.max(outputs, dim=1)\n",
    "        total += labels.shape[0]\n",
    "\n",
    "        correct += int((predicted == labels).sum())\n",
    "      \n",
    "print(\"Accuracy: %f\" % (correct / total))"
   ]
  },
  {
   "cell_type": "code",
   "execution_count": null,
   "metadata": {
    "tags": []
   },
   "outputs": [],
   "source": [
    "train_loader = torch.utils.data.DataLoader(data_set, batch_size=64, shuffle=False)\n",
    "\n",
    "correct = 0 \n",
    "total = 0\n",
    "\n",
    "with torch.no_grad():\n",
    "    for imgs, labels in train_loader:\n",
    "        outputs = model(imgs.view(imgs.shape[0], -1))\n",
    "        _, predicted = torch.max(outputs, dim=1)\n",
    "        total += labels.shape[0]\n",
    "        correct += int((predicted == labels).sum())\n",
    "        \n",
    "print(\"Accuracy: %f\" % (correct / total))"
   ]
  },
  {
   "cell_type": "code",
   "execution_count": null,
   "metadata": {},
   "outputs": [],
   "source": [
    "sum([p.numel() for p in model.parameters() if p.requires_grad == True])"
   ]
  },
  {
   "cell_type": "code",
   "execution_count": null,
   "metadata": {
    "tags": []
   },
   "outputs": [],
   "source": [
    "image = request.urlretrieve('https://i.pinimg.com/originals/43/bc/47/43bc47066bb8b2fa4fe7cc8e82cc3714.jpg','test,jpg')\n",
    "                            \n",
    "img = Image.open(image[0])\n",
    "\n",
    "preprocess = transforms.Compose([\n",
    "        transforms.Resize(48),\n",
    "        transforms.CenterCrop(32),\n",
    "        transforms.ToTensor(),\n",
    "        transforms.Normalize(\n",
    "            mean=[0.4915, 0.4823, 0.4468],\n",
    "            std=[0.2470, 0.2435, 0.2616]\n",
    "        )])\n",
    "\n",
    "img_t = preprocess(img)\n",
    "out = model(img_t.view(-1).unsqueeze(0))\n",
    "_, index = torch.max(out, dim=1)\n",
    "print('correct: car ',' model:',class_names[index])\n",
    "plt.imshow(img_t.permute(1, 2, 0))"
   ]
  },
  {
   "cell_type": "code",
   "execution_count": null,
   "metadata": {},
   "outputs": [],
   "source": [
    "class_names = ['car', 'cat']\n",
    "img, label = dataset[50]\n",
    "out = model(img.view(-1).unsqueeze(0))\n",
    "print(class_names[label])print(out)#output\n",
    "cat\n",
    "tensor([[0.4957, 0.5043]], grad_fn=<SoftmaxBackward>)"
   ]
  },
  {
   "cell_type": "code",
   "execution_count": 29,
   "metadata": {
    "tags": []
   },
   "outputs": [
    {
     "output_type": "stream",
     "name": "stdout",
     "text": "tensor([[1],\n        [2],\n        [3],\n        [4]])\ntensor([[1],\n        [2],\n        [3],\n        [4]])\n"
    }
   ],
   "source": [
    "tensorX = torch.tensor([1, 2, 3, 4])\n",
    "print(torch.unsqueeze(tensorX, 1))\n",
    "tensorX = torch.tensor([1, 2, 3, 4])\n",
    "print(torch.unsqueeze(tensorX, 1))"
   ]
  },
  {
   "cell_type": "code",
   "execution_count": null,
   "metadata": {},
   "outputs": [],
   "source": []
  }
 ]
}